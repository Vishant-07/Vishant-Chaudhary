{
 "cells": [
  {
   "cell_type": "code",
   "execution_count": 3,
   "id": "5d946c26-40e3-48ae-aeba-35194024ebf7",
   "metadata": {},
   "outputs": [
    {
     "name": "stdout",
     "output_type": "stream",
     "text": [
      "Welocme to Python Programming for AI\n"
     ]
    }
   ],
   "source": [
    "print(\"Welocme to Python Programming for AI\")"
   ]
  },
  {
   "cell_type": "code",
   "execution_count": 5,
   "id": "16f552b6-c45f-41cb-9f9d-4772536a93ff",
   "metadata": {},
   "outputs": [],
   "source": [
    "x=5 # Integer\n",
    "y=3.14 # Float\n",
    "name=\"AI Enthusiast\" # String\n",
    "is_learning=True # Boolean"
   ]
  },
  {
   "cell_type": "code",
   "execution_count": 7,
   "id": "5ffd146a-542e-4019-ad8e-104e199b148e",
   "metadata": {},
   "outputs": [
    {
     "name": "stdout",
     "output_type": "stream",
     "text": [
      "Integer: 5\n"
     ]
    }
   ],
   "source": [
    "print(\"Integer:\",x)"
   ]
  },
  {
   "cell_type": "code",
   "execution_count": 9,
   "id": "9838edaf-2ed1-4bb4-850b-76873666f3d9",
   "metadata": {},
   "outputs": [
    {
     "name": "stdout",
     "output_type": "stream",
     "text": [
      "Float: 3.14\n"
     ]
    }
   ],
   "source": [
    "print(\"Float:\",y)"
   ]
  },
  {
   "cell_type": "code",
   "execution_count": 11,
   "id": "40a2ce4f-5a70-42f7-b962-e62ae94a4551",
   "metadata": {},
   "outputs": [
    {
     "name": "stdout",
     "output_type": "stream",
     "text": [
      "Integer+Float: 8.14\n"
     ]
    }
   ],
   "source": [
    "print(\"Integer+Float:\",x+y)"
   ]
  },
  {
   "cell_type": "code",
   "execution_count": 13,
   "id": "bae642fe-8e22-4f6b-8b67-3d4fae2a63ea",
   "metadata": {},
   "outputs": [
    {
     "name": "stdout",
     "output_type": "stream",
     "text": [
      "String: AI Enthusiast\n"
     ]
    }
   ],
   "source": [
    "print(\"String:\",name)"
   ]
  },
  {
   "cell_type": "code",
   "execution_count": 15,
   "id": "1c09cd74-0e9b-4963-bf12-eacd7c0f9543",
   "metadata": {},
   "outputs": [
    {
     "name": "stdout",
     "output_type": "stream",
     "text": [
      "Boolean: True\n"
     ]
    }
   ],
   "source": [
    "print(\"Boolean:\",is_learning)"
   ]
  },
  {
   "cell_type": "code",
   "execution_count": 17,
   "id": "d16bc6cf-28ee-498f-9b6b-8db020e0e421",
   "metadata": {},
   "outputs": [],
   "source": [
    "sum_result=x+y"
   ]
  },
  {
   "cell_type": "code",
   "execution_count": 19,
   "id": "8c1a0861-8a22-460b-974d-9d410e2f4f5a",
   "metadata": {},
   "outputs": [
    {
     "name": "stdout",
     "output_type": "stream",
     "text": [
      "sum of x and y: 8.14\n"
     ]
    }
   ],
   "source": [
    "print(\"sum of x and y:\",sum_result)"
   ]
  },
  {
   "cell_type": "code",
   "execution_count": 21,
   "id": "e7b72ddd-62c8-4171-8a52-a0c96a430165",
   "metadata": {},
   "outputs": [],
   "source": [
    "numbers=[1,2,3,4,5,6,7,8,9]\n",
    "bootcamp=[\"Vishant\",\"Atul\",\"x\",\"\",]"
   ]
  },
  {
   "cell_type": "code",
   "execution_count": 23,
   "id": "89210ed4-c2f6-4570-8e89-cfb840ebf0a7",
   "metadata": {},
   "outputs": [
    {
     "name": "stdout",
     "output_type": "stream",
     "text": [
      "List of numbers: [1, 2, 3, 4, 5, 6, 7, 8, 9]\n"
     ]
    }
   ],
   "source": [
    "print(\"List of numbers:\",numbers)"
   ]
  },
  {
   "cell_type": "code",
   "execution_count": 123,
   "id": "cd1ef28a-4227-419f-abcb-ca4a32dfcfe9",
   "metadata": {},
   "outputs": [
    {
     "name": "stdout",
     "output_type": "stream",
     "text": [
      "First number in the List: 4\n"
     ]
    }
   ],
   "source": [
    "print(\"First number in the List:\",numbers[3])"
   ]
  },
  {
   "cell_type": "code",
   "execution_count": 27,
   "id": "16ad8278-862d-48d5-95a7-498f960e1214",
   "metadata": {},
   "outputs": [
    {
     "name": "stdout",
     "output_type": "stream",
     "text": [
      "First number in the list: 4\n"
     ]
    }
   ],
   "source": [
    "print(\"First number in the list:\",numbers[3])"
   ]
  },
  {
   "cell_type": "code",
   "execution_count": 29,
   "id": "c63fd524-e2f2-4d13-abf8-821c2d556807",
   "metadata": {},
   "outputs": [
    {
     "name": "stdout",
     "output_type": "stream",
     "text": [
      "number in the list: 6\n"
     ]
    }
   ],
   "source": [
    "print(\"number in the list:\",numbers[5])"
   ]
  },
  {
   "cell_type": "code",
   "execution_count": 35,
   "id": "ef86d191-9cfe-4631-81d8-f021ba664a50",
   "metadata": {},
   "outputs": [
    {
     "name": "stdout",
     "output_type": "stream",
     "text": [
      "numbers in the list:\n",
      "1\n",
      "2\n",
      "3\n",
      "4\n",
      "5\n",
      "6\n",
      "7\n",
      "8\n",
      "9\n"
     ]
    }
   ],
   "source": [
    "print(\"numbers in the list:\")\n",
    "for x in numbers:\n",
    "  print(x)"
   ]
  },
  {
   "cell_type": "code",
   "execution_count": 37,
   "id": "b1fcbe1a-8c54-4cdf-8a2b-6df21ceecaac",
   "metadata": {},
   "outputs": [],
   "source": [
    "def greet_user(name):\n",
    "    print(\"Hello,\",name,\"Welcome to All\")"
   ]
  },
  {
   "cell_type": "code",
   "execution_count": 39,
   "id": "ec73353c-8560-4626-acb9-47b4d418469c",
   "metadata": {},
   "outputs": [
    {
     "name": "stdout",
     "output_type": "stream",
     "text": [
      "Hello, Student Welcome to All\n"
     ]
    }
   ],
   "source": [
    "greet_user(\"Student\")"
   ]
  },
  {
   "cell_type": "code",
   "execution_count": 41,
   "id": "6bb2d2f7-999f-4ecf-96b5-f54ff25d96d7",
   "metadata": {},
   "outputs": [
    {
     "name": "stderr",
     "output_type": "stream",
     "text": [
      "Matplotlib is building the font cache; this may take a moment.\n"
     ]
    }
   ],
   "source": [
    "import matplotlib.pyplot as plt"
   ]
  },
  {
   "cell_type": "code",
   "execution_count": 43,
   "id": "3cd511b5-c8ad-497e-b790-0db43ec37cdd",
   "metadata": {},
   "outputs": [],
   "source": [
    "years=[2015,2016,2017,2018,2019]\n",
    "values=[10,20,30,40,50]"
   ]
  },
  {
   "cell_type": "code",
   "execution_count": 45,
   "id": "91054dec-58fd-4724-9b07-23c024c67775",
   "metadata": {},
   "outputs": [
    {
     "data": {
      "image/png": "[encoded data removed]",
      "text/plain": [
       "<Figure size 640x480 with 1 Axes>"
      ]
     },
     "metadata": {},
     "output_type": "display_data"
    }
   ],
   "source": [
    "plt.plot(years,values,marker='x')\n",
    "plt.title(\"AI growth over years from 2015 to 2019\")\n",
    "plt.xlabel(\"Year\")\n",
    "plt.ylabel(\"Value\")\n",
    "plt.show()"
   ]
  },
  {
   "cell_type": "code",
   "execution_count": 70,
   "id": "5480c3cb-04a9-4cc5-9f96-4dbdbbca61f8",
   "metadata": {},
   "outputs": [],
   "source": [
    "#DATA ANALYSIS\n",
    "\n",
    "import pandas as pd\n",
    "import numpy as np\n",
    "\n",
    "#DATA VISUALIZATION\n",
    "\n",
    "from matplotlib import pyplot as plt\n",
    "import seaborn as sns\n",
    "\n",
    "%matplotlib inline"
   ]
  },
  {
   "cell_type": "code",
   "execution_count": 99,
   "id": "f93e025b-e1a4-48d6-aec0-f84bb72b44e3",
   "metadata": {},
   "outputs": [],
   "source": [
    "student_performance= \"student_performance.csv\"  # Example dataset file path\n",
    "df = pd.read_csv(\"student_performance.csv\")"
   ]
  },
  {
   "cell_type": "code",
   "execution_count": 101,
   "id": "a47b2573-9eed-4b8f-a527-0ac310ec4f9d",
   "metadata": {},
   "outputs": [
    {
     "name": "stdout",
     "output_type": "stream",
     "text": [
      "Dataset Overview:\n",
      "   StudentID  G1  G2  G3      Mjob     Fjob  age address  studytime  failures  \\\n",
      "0          1   6   2   2   teacher  at_home   21   rural          3         1   \n",
      "1          2  19  11  18    health  teacher   18   rural          1         1   \n",
      "2          3  14   7  19    health    other   20   urban          1         1   \n",
      "3          4  10   2   6  services   health   21   urban          3         1   \n",
      "4          5   7   0  19    health   health   18   rural          4         1   \n",
      "\n",
      "  schoolsup famsup paid activities nursery higher internet romantic  \n",
      "0        no    yes  yes        yes     yes    yes       no      yes  \n",
      "1        no     no   no         no     yes     no       no       no  \n",
      "2       yes    yes  yes         no      no     no      yes      yes  \n",
      "3       yes     no  yes         no     yes     no       no       no  \n",
      "4        no     no  yes         no     yes    yes      yes       no  \n"
     ]
    }
   ],
   "source": [
    "print(\"Dataset Overview:\")\n",
    "print(df.head())\n"
   ]
  },
  {
   "cell_type": "code",
   "execution_count": 103,
   "id": "9f3de9e9-eddd-4e44-b5a5-ee9e3ad24c21",
   "metadata": {},
   "outputs": [
    {
     "name": "stdout",
     "output_type": "stream",
     "text": [
      "\n",
      "Dataset Info:\n",
      "<class 'pandas.core.frame.DataFrame'>\n",
      "RangeIndex: 100 entries, 0 to 99\n",
      "Data columns (total 18 columns):\n",
      " #   Column      Non-Null Count  Dtype \n",
      "---  ------      --------------  ----- \n",
      " 0   StudentID   100 non-null    int64 \n",
      " 1   G1          100 non-null    int64 \n",
      " 2   G2          100 non-null    int64 \n",
      " 3   G3          100 non-null    int64 \n",
      " 4   Mjob        100 non-null    object\n",
      " 5   Fjob        100 non-null    object\n",
      " 6   age         100 non-null    int64 \n",
      " 7   address     100 non-null    object\n",
      " 8   studytime   100 non-null    int64 \n",
      " 9   failures    100 non-null    int64 \n",
      " 10  schoolsup   100 non-null    object\n",
      " 11  famsup      100 non-null    object\n",
      " 12  paid        100 non-null    object\n",
      " 13  activities  100 non-null    object\n",
      " 14  nursery     100 non-null    object\n",
      " 15  higher      100 non-null    object\n",
      " 16  internet    100 non-null    object\n",
      " 17  romantic    100 non-null    object\n",
      "dtypes: int64(7), object(11)\n",
      "memory usage: 14.2+ KB\n",
      "None\n",
      "\n",
      "Dataset Statistics:\n",
      "        StudentID          G1          G2          G3         age  studytime  \\\n",
      "count  100.000000  100.000000  100.000000  100.000000  100.000000  100.00000   \n",
      "mean    50.500000    9.010000    8.710000    9.070000   18.180000    2.21000   \n",
      "std     29.011492    5.535003    6.107282    6.629068    1.940426    1.06643   \n",
      "min      1.000000    0.000000    0.000000    0.000000   15.000000    1.00000   \n",
      "25%     25.750000    4.750000    3.750000    2.000000   16.750000    1.00000   \n",
      "50%     50.500000    8.500000    8.000000    8.000000   18.000000    2.00000   \n",
      "75%     75.250000   14.000000   14.000000   15.000000   20.000000    3.00000   \n",
      "max    100.000000   19.000000   19.000000   19.000000   21.000000    4.00000   \n",
      "\n",
      "         failures  \n",
      "count  100.000000  \n",
      "mean     1.380000  \n",
      "std      1.080404  \n",
      "min      0.000000  \n",
      "25%      0.000000  \n",
      "50%      1.000000  \n",
      "75%      2.000000  \n",
      "max      3.000000  \n"
     ]
    }
   ],
   "source": [
    "print(\"\\nDataset Info:\")\n",
    "print(df.info())\n",
    "print(\"\\nDataset Statistics:\")\n",
    "print(df.describe())"
   ]
  },
  {
   "cell_type": "code",
   "execution_count": 105,
   "id": "595a1e0b-bac2-4994-a8aa-b0f31ed9a2ff",
   "metadata": {},
   "outputs": [
    {
     "name": "stdout",
     "output_type": "stream",
     "text": [
      "\n",
      "Missing Values:\n",
      "StudentID     0\n",
      "G1            0\n",
      "G2            0\n",
      "G3            0\n",
      "Mjob          0\n",
      "Fjob          0\n",
      "age           0\n",
      "address       0\n",
      "studytime     0\n",
      "failures      0\n",
      "schoolsup     0\n",
      "famsup        0\n",
      "paid          0\n",
      "activities    0\n",
      "nursery       0\n",
      "higher        0\n",
      "internet      0\n",
      "romantic      0\n",
      "dtype: int64\n"
     ]
    }
   ],
   "source": [
    "print(\"\\nMissing Values:\")\n",
    "print(df.isnull().sum())"
   ]
  },
  {
   "cell_type": "code",
   "execution_count": 107,
   "id": "6ede1f72-0584-407c-952a-0ee8e312113d",
   "metadata": {},
   "outputs": [],
   "source": [
    "# Fill missing values with 0\n",
    "df.fillna(0, inplace=True)"
   ]
  },
  {
   "cell_type": "code",
   "execution_count": 109,
   "id": "9068c47b-d84e-48b0-9040-8bb0fecfcc2d",
   "metadata": {},
   "outputs": [],
   "source": [
    "# Rename columns for clarity\n",
    "df.rename(columns={\"batsman_runs\": \"Runs_Scored\"}, inplace=True)"
   ]
  },
  {
   "cell_type": "code",
   "execution_count": 119,
   "id": "0557fba5-ebe9-4d45-9c14-a25bcbd30afb",
   "metadata": {},
   "outputs": [
    {
     "name": "stdout",
     "output_type": "stream",
     "text": [
      "   StudentID  G1  G2  G3      Mjob     Fjob  age address  studytime  failures  \\\n",
      "0          1   6   2   2   teacher  at_home   21   rural          3         1   \n",
      "1          2  19  11  18    health  teacher   18   rural          1         1   \n",
      "2          3  14   7  19    health    other   20   urban          1         1   \n",
      "3          4  10   2   6  services   health   21   urban          3         1   \n",
      "4          5   7   0  19    health   health   18   rural          4         1   \n",
      "\n",
      "  schoolsup famsup paid activities nursery higher internet romantic  \n",
      "0        no    yes  yes        yes     yes    yes       no      yes  \n",
      "1        no     no   no         no     yes     no       no       no  \n",
      "2       yes    yes  yes         no      no     no      yes      yes  \n",
      "3       yes     no  yes         no     yes     no       no       no  \n",
      "4        no     no  yes         no     yes    yes      yes       no  \n"
     ]
    },
    {
     "ename": "KeyError",
     "evalue": "'batter'",
     "output_type": "error",
     "traceback": [
      "\u001b[0;31m---------------------------------------------------------------------------\u001b[0m",
      "\u001b[0;31mKeyError\u001b[0m                                  Traceback (most recent call last)",
      "Cell \u001b[0;32mIn[119], line 4\u001b[0m\n\u001b[1;32m      1\u001b[0m \u001b[38;5;66;03m# Example 1: Top Batsmen Analysis\u001b[39;00m\n\u001b[1;32m      2\u001b[0m \u001b[38;5;66;03m#Total runs scored by each batsman:\u001b[39;00m\n\u001b[1;32m      3\u001b[0m \u001b[38;5;28mprint\u001b[39m(df\u001b[38;5;241m.\u001b[39mhead())\n\u001b[0;32m----> 4\u001b[0m top_batsmen \u001b[38;5;241m=\u001b[39m \u001b[43mdf\u001b[49m\u001b[38;5;241;43m.\u001b[39;49m\u001b[43mgroupby\u001b[49m\u001b[43m(\u001b[49m\u001b[38;5;124;43m'\u001b[39;49m\u001b[38;5;124;43mbatter\u001b[39;49m\u001b[38;5;124;43m'\u001b[39;49m\u001b[43m)\u001b[49m[\u001b[38;5;124m'\u001b[39m\u001b[38;5;124mRuns_Scored\u001b[39m\u001b[38;5;124m'\u001b[39m]\u001b[38;5;241m.\u001b[39msum()\u001b[38;5;241m.\u001b[39msort_values(ascending\u001b[38;5;241m=\u001b[39m\u001b[38;5;28;01mFalse\u001b[39;00m)\u001b[38;5;241m.\u001b[39mhead(\u001b[38;5;241m10\u001b[39m)\n\u001b[1;32m      5\u001b[0m \u001b[38;5;28mprint\u001b[39m(\u001b[38;5;124m\"\u001b[39m\u001b[38;5;130;01m\\n\u001b[39;00m\u001b[38;5;124mTop 10 Batsmen by Runs:\u001b[39m\u001b[38;5;124m\"\u001b[39m)\n\u001b[1;32m      6\u001b[0m \u001b[38;5;28mprint\u001b[39m(top_batsmen)\n",
      "File \u001b[0;32m/opt/conda/envs/anaconda-ai-2024.04-py310/lib/python3.10/site-packages/pandas/core/frame.py:8869\u001b[0m, in \u001b[0;36mDataFrame.groupby\u001b[0;34m(self, by, axis, level, as_index, sort, group_keys, observed, dropna)\u001b[0m\n\u001b[1;32m   8866\u001b[0m \u001b[38;5;28;01mif\u001b[39;00m level \u001b[38;5;129;01mis\u001b[39;00m \u001b[38;5;28;01mNone\u001b[39;00m \u001b[38;5;129;01mand\u001b[39;00m by \u001b[38;5;129;01mis\u001b[39;00m \u001b[38;5;28;01mNone\u001b[39;00m:\n\u001b[1;32m   8867\u001b[0m     \u001b[38;5;28;01mraise\u001b[39;00m \u001b[38;5;167;01mTypeError\u001b[39;00m(\u001b[38;5;124m\"\u001b[39m\u001b[38;5;124mYou have to supply one of \u001b[39m\u001b[38;5;124m'\u001b[39m\u001b[38;5;124mby\u001b[39m\u001b[38;5;124m'\u001b[39m\u001b[38;5;124m and \u001b[39m\u001b[38;5;124m'\u001b[39m\u001b[38;5;124mlevel\u001b[39m\u001b[38;5;124m'\u001b[39m\u001b[38;5;124m\"\u001b[39m)\n\u001b[0;32m-> 8869\u001b[0m \u001b[38;5;28;01mreturn\u001b[39;00m \u001b[43mDataFrameGroupBy\u001b[49m\u001b[43m(\u001b[49m\n\u001b[1;32m   8870\u001b[0m \u001b[43m    \u001b[49m\u001b[43mobj\u001b[49m\u001b[38;5;241;43m=\u001b[39;49m\u001b[38;5;28;43mself\u001b[39;49m\u001b[43m,\u001b[49m\n\u001b[1;32m   8871\u001b[0m \u001b[43m    \u001b[49m\u001b[43mkeys\u001b[49m\u001b[38;5;241;43m=\u001b[39;49m\u001b[43mby\u001b[49m\u001b[43m,\u001b[49m\n\u001b[1;32m   8872\u001b[0m \u001b[43m    \u001b[49m\u001b[43maxis\u001b[49m\u001b[38;5;241;43m=\u001b[39;49m\u001b[43maxis\u001b[49m\u001b[43m,\u001b[49m\n\u001b[1;32m   8873\u001b[0m \u001b[43m    \u001b[49m\u001b[43mlevel\u001b[49m\u001b[38;5;241;43m=\u001b[39;49m\u001b[43mlevel\u001b[49m\u001b[43m,\u001b[49m\n\u001b[1;32m   8874\u001b[0m \u001b[43m    \u001b[49m\u001b[43mas_index\u001b[49m\u001b[38;5;241;43m=\u001b[39;49m\u001b[43mas_index\u001b[49m\u001b[43m,\u001b[49m\n\u001b[1;32m   8875\u001b[0m \u001b[43m    \u001b[49m\u001b[43msort\u001b[49m\u001b[38;5;241;43m=\u001b[39;49m\u001b[43msort\u001b[49m\u001b[43m,\u001b[49m\n\u001b[1;32m   8876\u001b[0m \u001b[43m    \u001b[49m\u001b[43mgroup_keys\u001b[49m\u001b[38;5;241;43m=\u001b[39;49m\u001b[43mgroup_keys\u001b[49m\u001b[43m,\u001b[49m\n\u001b[1;32m   8877\u001b[0m \u001b[43m    \u001b[49m\u001b[43mobserved\u001b[49m\u001b[38;5;241;43m=\u001b[39;49m\u001b[43mobserved\u001b[49m\u001b[43m,\u001b[49m\n\u001b[1;32m   8878\u001b[0m \u001b[43m    \u001b[49m\u001b[43mdropna\u001b[49m\u001b[38;5;241;43m=\u001b[39;49m\u001b[43mdropna\u001b[49m\u001b[43m,\u001b[49m\n\u001b[1;32m   8879\u001b[0m \u001b[43m\u001b[49m\u001b[43m)\u001b[49m\n",
      "File \u001b[0;32m/opt/conda/envs/anaconda-ai-2024.04-py310/lib/python3.10/site-packages/pandas/core/groupby/groupby.py:1278\u001b[0m, in \u001b[0;36mGroupBy.__init__\u001b[0;34m(self, obj, keys, axis, level, grouper, exclusions, selection, as_index, sort, group_keys, observed, dropna)\u001b[0m\n\u001b[1;32m   1275\u001b[0m \u001b[38;5;28mself\u001b[39m\u001b[38;5;241m.\u001b[39mdropna \u001b[38;5;241m=\u001b[39m dropna\n\u001b[1;32m   1277\u001b[0m \u001b[38;5;28;01mif\u001b[39;00m grouper \u001b[38;5;129;01mis\u001b[39;00m \u001b[38;5;28;01mNone\u001b[39;00m:\n\u001b[0;32m-> 1278\u001b[0m     grouper, exclusions, obj \u001b[38;5;241m=\u001b[39m \u001b[43mget_grouper\u001b[49m\u001b[43m(\u001b[49m\n\u001b[1;32m   1279\u001b[0m \u001b[43m        \u001b[49m\u001b[43mobj\u001b[49m\u001b[43m,\u001b[49m\n\u001b[1;32m   1280\u001b[0m \u001b[43m        \u001b[49m\u001b[43mkeys\u001b[49m\u001b[43m,\u001b[49m\n\u001b[1;32m   1281\u001b[0m \u001b[43m        \u001b[49m\u001b[43maxis\u001b[49m\u001b[38;5;241;43m=\u001b[39;49m\u001b[43maxis\u001b[49m\u001b[43m,\u001b[49m\n\u001b[1;32m   1282\u001b[0m \u001b[43m        \u001b[49m\u001b[43mlevel\u001b[49m\u001b[38;5;241;43m=\u001b[39;49m\u001b[43mlevel\u001b[49m\u001b[43m,\u001b[49m\n\u001b[1;32m   1283\u001b[0m \u001b[43m        \u001b[49m\u001b[43msort\u001b[49m\u001b[38;5;241;43m=\u001b[39;49m\u001b[43msort\u001b[49m\u001b[43m,\u001b[49m\n\u001b[1;32m   1284\u001b[0m \u001b[43m        \u001b[49m\u001b[43mobserved\u001b[49m\u001b[38;5;241;43m=\u001b[39;49m\u001b[38;5;28;43;01mFalse\u001b[39;49;00m\u001b[43m \u001b[49m\u001b[38;5;28;43;01mif\u001b[39;49;00m\u001b[43m \u001b[49m\u001b[43mobserved\u001b[49m\u001b[43m \u001b[49m\u001b[38;5;129;43;01mis\u001b[39;49;00m\u001b[43m \u001b[49m\u001b[43mlib\u001b[49m\u001b[38;5;241;43m.\u001b[39;49m\u001b[43mno_default\u001b[49m\u001b[43m \u001b[49m\u001b[38;5;28;43;01melse\u001b[39;49;00m\u001b[43m \u001b[49m\u001b[43mobserved\u001b[49m\u001b[43m,\u001b[49m\n\u001b[1;32m   1285\u001b[0m \u001b[43m        \u001b[49m\u001b[43mdropna\u001b[49m\u001b[38;5;241;43m=\u001b[39;49m\u001b[38;5;28;43mself\u001b[39;49m\u001b[38;5;241;43m.\u001b[39;49m\u001b[43mdropna\u001b[49m\u001b[43m,\u001b[49m\n\u001b[1;32m   1286\u001b[0m \u001b[43m    \u001b[49m\u001b[43m)\u001b[49m\n\u001b[1;32m   1288\u001b[0m \u001b[38;5;28;01mif\u001b[39;00m observed \u001b[38;5;129;01mis\u001b[39;00m lib\u001b[38;5;241m.\u001b[39mno_default:\n\u001b[1;32m   1289\u001b[0m     \u001b[38;5;28;01mif\u001b[39;00m \u001b[38;5;28many\u001b[39m(ping\u001b[38;5;241m.\u001b[39m_passed_categorical \u001b[38;5;28;01mfor\u001b[39;00m ping \u001b[38;5;129;01min\u001b[39;00m grouper\u001b[38;5;241m.\u001b[39mgroupings):\n",
      "File \u001b[0;32m/opt/conda/envs/anaconda-ai-2024.04-py310/lib/python3.10/site-packages/pandas/core/groupby/grouper.py:1009\u001b[0m, in \u001b[0;36mget_grouper\u001b[0;34m(obj, key, axis, level, sort, observed, validate, dropna)\u001b[0m\n\u001b[1;32m   1007\u001b[0m         in_axis, level, gpr \u001b[38;5;241m=\u001b[39m \u001b[38;5;28;01mFalse\u001b[39;00m, gpr, \u001b[38;5;28;01mNone\u001b[39;00m\n\u001b[1;32m   1008\u001b[0m     \u001b[38;5;28;01melse\u001b[39;00m:\n\u001b[0;32m-> 1009\u001b[0m         \u001b[38;5;28;01mraise\u001b[39;00m \u001b[38;5;167;01mKeyError\u001b[39;00m(gpr)\n\u001b[1;32m   1010\u001b[0m \u001b[38;5;28;01melif\u001b[39;00m \u001b[38;5;28misinstance\u001b[39m(gpr, Grouper) \u001b[38;5;129;01mand\u001b[39;00m gpr\u001b[38;5;241m.\u001b[39mkey \u001b[38;5;129;01mis\u001b[39;00m \u001b[38;5;129;01mnot\u001b[39;00m \u001b[38;5;28;01mNone\u001b[39;00m:\n\u001b[1;32m   1011\u001b[0m     \u001b[38;5;66;03m# Add key to exclusions\u001b[39;00m\n\u001b[1;32m   1012\u001b[0m     exclusions\u001b[38;5;241m.\u001b[39madd(gpr\u001b[38;5;241m.\u001b[39mkey)\n",
      "\u001b[0;31mKeyError\u001b[0m: 'batter'"
     ]
    }
   ],
   "source": [
    "# Example 1: Top Batsmen Analysis\n",
    "#Total runs scored by each batsman:\n",
    "print(df.head())\n",
    "top_batsmen = df.groupby('batter')['Runs_Scored'].sum().sort_values(ascending=False).head(10)\n",
    "print(\"\\nTop 10 Batsmen by Runs:\")\n",
    "print(top_batsmen)"
   ]
  },
  {
   "cell_type": "code",
   "execution_count": 125,
   "id": "9358b80c-d20c-48dd-8745-2f9a0dfc1e04",
   "metadata": {},
   "outputs": [
    {
     "ename": "NameError",
     "evalue": "name 'top_batsmen' is not defined",
     "output_type": "error",
     "traceback": [
      "\u001b[0;31m---------------------------------------------------------------------------\u001b[0m",
      "\u001b[0;31mNameError\u001b[0m                                 Traceback (most recent call last)",
      "Cell \u001b[0;32mIn[125], line 2\u001b[0m\n\u001b[1;32m      1\u001b[0m \u001b[38;5;66;03m# Visualize the data\u001b[39;00m\n\u001b[0;32m----> 2\u001b[0m \u001b[43mtop_batsmen\u001b[49m\u001b[38;5;241m.\u001b[39mplot(kind\u001b[38;5;241m=\u001b[39m\u001b[38;5;124m'\u001b[39m\u001b[38;5;124mbar\u001b[39m\u001b[38;5;124m'\u001b[39m, title\u001b[38;5;241m=\u001b[39m\u001b[38;5;124m'\u001b[39m\u001b[38;5;124mTop 10 Batsmen by Runs\u001b[39m\u001b[38;5;124m'\u001b[39m, figsize\u001b[38;5;241m=\u001b[39m(\u001b[38;5;241m10\u001b[39m, \u001b[38;5;241m5\u001b[39m))\n\u001b[1;32m      3\u001b[0m plt\u001b[38;5;241m.\u001b[39mxlabel(\u001b[38;5;124m'\u001b[39m\u001b[38;5;124mBatsman\u001b[39m\u001b[38;5;124m'\u001b[39m)\n\u001b[1;32m      4\u001b[0m plt\u001b[38;5;241m.\u001b[39mylabel(\u001b[38;5;124m'\u001b[39m\u001b[38;5;124mTotal Runs\u001b[39m\u001b[38;5;124m'\u001b[39m)\n",
      "\u001b[0;31mNameError\u001b[0m: name 'top_batsmen' is not defined"
     ]
    }
   ],
   "source": [
    "# Visualize the data\n",
    "top_batsmen.plot(kind='bar', title='Top 10 Batsmen by Runs', figsize=(10, 5))\n",
    "plt.xlabel('Batsman')\n",
    "plt.ylabel('Total Runs')\n",
    "plt.show()"
   ]
  },
  {
   "cell_type": "code",
   "execution_count": null,
   "id": "e2682135-a8ee-46f3-8f92-c7ffeb674eba",
   "metadata": {},
   "outputs": [],
   "source": []
  }
 ],
 "metadata": {
  "kernelspec": {
   "display_name": "anaconda-ai-2024.04-py310",
   "language": "python",
   "name": "conda-env-anaconda-ai-2024.04-py310-py"
  },
  "language_info": {
   "codemirror_mode": {
    "name": "ipython",
    "version": 3
   },
   "file_extension": ".py",
   "mimetype": "text/x-python",
   "name": "python",
   "nbconvert_exporter": "python",
   "pygments_lexer": "ipython3",
   "version": "3.10.13"
  }
 },
 "nbformat": 4,
 "nbformat_minor": 5
}
